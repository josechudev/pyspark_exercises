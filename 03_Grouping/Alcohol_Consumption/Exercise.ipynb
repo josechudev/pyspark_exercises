{
  "cells": [
    {
      "cell_type": "markdown",
      "metadata": {
        "id": "HM1wTIwBpex4"
      },
      "source": [
        "# Ex - GroupBy"
      ]
    },
    {
      "cell_type": "markdown",
      "metadata": {
        "id": "o9Lce0flpex7"
      },
      "source": [
        "### Introduction:\n",
        "\n",
        "GroupBy can be summarized as Split-Apply-Combine.\n",
        "\n",
        "Special thanks to: https://github.com/justmarkham for sharing the dataset and materials.\n",
        "\n",
        "Check out this [Diagram](http://i.imgur.com/yjNkiwL.png)  \n",
        "### Step 1. Import the necessary libraries"
      ]
    },
    {
      "cell_type": "code",
      "execution_count": 38,
      "metadata": {
        "id": "LFG7-XZ9pex8"
      },
      "outputs": [],
      "source": [
        "!apt-get install openjdk-8-jdk-headless -qq > /dev/null\n",
        "!wget -q https://dlcdn.apache.org/spark/spark-3.3.0/spark-3.3.0-bin-hadoop3.tgz\n",
        "!tar xf spark-3.3.0-bin-hadoop3.tgz\n",
        "\n",
        "!pip install -q findspark\n",
        "\n"
      ]
    },
    {
      "cell_type": "code",
      "source": [
        "import os\n",
        "os.environ[\"JAVA_HOME\"] = \"/usr/lib/jvm/java-8-openjdk-amd64\"\n",
        "os.environ[\"SPARK_HOME\"] = \"/content/spark-3.3.0-bin-hadoop3\"\n",
        "\n",
        "import findspark\n",
        "findspark.init()\n",
        "\n",
        "import pandas as pd\n",
        "\n",
        "from pyspark.sql import SparkSession\n",
        "\n",
        "spark = SparkSession.builder\\\n",
        "        .master(\"local\")\\\n",
        "        .appName(\"Colab\")\\\n",
        "        .config('spark.ui.port', '4050')\\\n",
        "        .getOrCreate()\n",
        "\n",
        "import pyspark.sql.functions as F"
      ],
      "metadata": {
        "id": "jD6m9FPXp-MP"
      },
      "execution_count": 39,
      "outputs": []
    },
    {
      "cell_type": "markdown",
      "metadata": {
        "id": "hK_kTFEqpex8"
      },
      "source": [
        "### Step 2. Import the dataset from this [address](https://raw.githubusercontent.com/justmarkham/DAT8/master/data/drinks.csv). "
      ]
    },
    {
      "cell_type": "code",
      "source": [
        "url = 'https://raw.githubusercontent.com/justmarkham/DAT8/master/data/drinks.csv'"
      ],
      "metadata": {
        "id": "BIquilS2qN8o"
      },
      "execution_count": 40,
      "outputs": []
    },
    {
      "cell_type": "markdown",
      "metadata": {
        "id": "4evKjGYRpex9"
      },
      "source": [
        "### Step 3. Assign it to a variable called drinks."
      ]
    },
    {
      "cell_type": "code",
      "execution_count": 41,
      "metadata": {
        "id": "af0VvnXApex9"
      },
      "outputs": [],
      "source": [
        "from pyspark import SparkFiles\n",
        "spark.sparkContext.addFile(url)\n",
        "drinks=spark.read.csv(SparkFiles.get(\"drinks.csv\"), header=True)"
      ]
    },
    {
      "cell_type": "markdown",
      "metadata": {
        "id": "o_QL_tCBpex9"
      },
      "source": [
        "### Step 4. Which continent drinks more beer on average?"
      ]
    },
    {
      "cell_type": "code",
      "execution_count": 12,
      "metadata": {
        "id": "8yjKAOd-pex-",
        "outputId": "fc61138d-4299-4177-9a4f-3d8689b52a26",
        "colab": {
          "base_uri": "https://localhost:8080/"
        }
      },
      "outputs": [
        {
          "output_type": "stream",
          "name": "stdout",
          "text": [
            "+-----------------+-------------+---------------+-------------+----------------------------+---------+\n",
            "|          country|beer_servings|spirit_servings|wine_servings|total_litres_of_pure_alcohol|continent|\n",
            "+-----------------+-------------+---------------+-------------+----------------------------+---------+\n",
            "|      Afghanistan|            0|              0|            0|                         0.0|       AS|\n",
            "|          Albania|           89|            132|           54|                         4.9|       EU|\n",
            "|          Algeria|           25|              0|           14|                         0.7|       AF|\n",
            "|          Andorra|          245|            138|          312|                        12.4|       EU|\n",
            "|           Angola|          217|             57|           45|                         5.9|       AF|\n",
            "|Antigua & Barbuda|          102|            128|           45|                         4.9|       NA|\n",
            "|        Argentina|          193|             25|          221|                         8.3|       SA|\n",
            "|          Armenia|           21|            179|           11|                         3.8|       EU|\n",
            "|        Australia|          261|             72|          212|                        10.4|       OC|\n",
            "|          Austria|          279|             75|          191|                         9.7|       EU|\n",
            "|       Azerbaijan|           21|             46|            5|                         1.3|       EU|\n",
            "|          Bahamas|          122|            176|           51|                         6.3|       NA|\n",
            "|          Bahrain|           42|             63|            7|                         2.0|       AS|\n",
            "|       Bangladesh|            0|              0|            0|                         0.0|       AS|\n",
            "|         Barbados|          143|            173|           36|                         6.3|       NA|\n",
            "|          Belarus|          142|            373|           42|                        14.4|       EU|\n",
            "|          Belgium|          295|             84|          212|                        10.5|       EU|\n",
            "|           Belize|          263|            114|            8|                         6.8|       NA|\n",
            "|            Benin|           34|              4|           13|                         1.1|       AF|\n",
            "|           Bhutan|           23|              0|            0|                         0.4|       AS|\n",
            "+-----------------+-------------+---------------+-------------+----------------------------+---------+\n",
            "only showing top 20 rows\n",
            "\n"
          ]
        }
      ],
      "source": [
        "drinks.show()"
      ]
    },
    {
      "cell_type": "code",
      "source": [
        "drinks.groupby(\"continent\").agg(F.avg(F.col(\"beer_servings\")).alias(\"avg_beers\")).sort(F.col(\"avg_beers\"), ascending=False).show()"
      ],
      "metadata": {
        "id": "wZMOFfTJq2kL",
        "outputId": "b7dd4854-54cd-4866-d126-e634739444c8",
        "colab": {
          "base_uri": "https://localhost:8080/"
        }
      },
      "execution_count": 19,
      "outputs": [
        {
          "output_type": "stream",
          "name": "stdout",
          "text": [
            "+---------+------------------+\n",
            "|continent|         avg_beers|\n",
            "+---------+------------------+\n",
            "|       EU|193.77777777777777|\n",
            "|       SA|175.08333333333334|\n",
            "|       NA|145.43478260869566|\n",
            "|       OC|           89.6875|\n",
            "|       AF|61.471698113207545|\n",
            "|       AS| 37.04545454545455|\n",
            "+---------+------------------+\n",
            "\n"
          ]
        }
      ]
    },
    {
      "cell_type": "markdown",
      "metadata": {
        "id": "2yTUzOrnpex-"
      },
      "source": [
        "### Step 5. For each continent print the statistics for wine consumption."
      ]
    },
    {
      "cell_type": "code",
      "source": [
        "from pyspark.sql import DataFrameStatFunctions as statFunc"
      ],
      "metadata": {
        "id": "aKUT_CWMtXJW"
      },
      "execution_count": 32,
      "outputs": []
    },
    {
      "cell_type": "code",
      "execution_count": 47,
      "metadata": {
        "id": "LBYqwNampex-",
        "outputId": "7d818f81-0c32-491c-81a7-a717613d90b6",
        "colab": {
          "base_uri": "https://localhost:8080/"
        }
      },
      "outputs": [
        {
          "output_type": "stream",
          "name": "stdout",
          "text": [
            "+---------+------------------+------------------+------------------+\n",
            "|continent|sum(wine_servings)|avg(wine_servings)|avg(wine_servings)|\n",
            "+---------+------------------+------------------+------------------+\n",
            "|       NA|             564.0| 24.52173913043478| 24.52173913043478|\n",
            "|       SA|             749.0|62.416666666666664|62.416666666666664|\n",
            "|       AS|             399.0| 9.068181818181818| 9.068181818181818|\n",
            "|       OC|             570.0|            35.625|            35.625|\n",
            "|       EU|            6400.0|142.22222222222223|142.22222222222223|\n",
            "|       AF|             862.0|16.264150943396228|16.264150943396228|\n",
            "+---------+------------------+------------------+------------------+\n",
            "\n"
          ]
        }
      ],
      "source": [
        "drinks.groupby(\"continent\").agg(F.sum(\"wine_servings\"), F.avg(\"wine_servings\"), F.mean(\"wine_servings\")).show()"
      ]
    },
    {
      "cell_type": "markdown",
      "metadata": {
        "id": "wmj55byApex_"
      },
      "source": [
        "### Step 6. Print the mean alcohol consumption per continent for every column"
      ]
    },
    {
      "cell_type": "code",
      "execution_count": 56,
      "metadata": {
        "id": "SCgoEWlVpeyA",
        "outputId": "1697ba09-3d76-40ac-8c34-b8150abf2c22",
        "colab": {
          "base_uri": "https://localhost:8080/"
        }
      },
      "outputs": [
        {
          "output_type": "stream",
          "name": "stdout",
          "text": [
            "+---------+------------------+--------------------+------------------+\n",
            "|continent|avg(beer_servings)|avg(spirit_servings)|avg(wine_servings)|\n",
            "+---------+------------------+--------------------+------------------+\n",
            "|       NA|145.43478260869566|   165.7391304347826| 24.52173913043478|\n",
            "|       SA|175.08333333333334|              114.75|62.416666666666664|\n",
            "|       AS| 37.04545454545455|   60.84090909090909| 9.068181818181818|\n",
            "|       OC|           89.6875|             58.4375|            35.625|\n",
            "|       EU|193.77777777777777|  132.55555555555554|142.22222222222223|\n",
            "|       AF|61.471698113207545|  16.339622641509433|16.264150943396228|\n",
            "+---------+------------------+--------------------+------------------+\n",
            "\n"
          ]
        }
      ],
      "source": [
        "funs = [F.mean]\n",
        "aggregate = [col for col in drinks.columns if \"servings\" in col]\n",
        "exprs = [f(F.col(c)) for f in funs for c in aggregate]\n",
        "drinks.groupby(\"continent\").agg(*exprs).show()"
      ]
    },
    {
      "cell_type": "markdown",
      "metadata": {
        "id": "PG9_6hMtpeyB"
      },
      "source": [
        "### Step 7. Print the median alcohol consumption per continent for every column"
      ]
    },
    {
      "cell_type": "code",
      "execution_count": null,
      "metadata": {
        "id": "IOQpeYK-peyC"
      },
      "outputs": [],
      "source": []
    },
    {
      "cell_type": "markdown",
      "metadata": {
        "id": "s41pksaLpeyC"
      },
      "source": [
        "### Step 8. Print the mean, min and max values for spirit consumption.\n",
        "#### This time output a DataFrame"
      ]
    },
    {
      "cell_type": "code",
      "execution_count": 57,
      "metadata": {
        "id": "xWi9GeUDpeyC",
        "outputId": "46a49693-7d76-4912-e55e-eef5c69ff68d",
        "colab": {
          "base_uri": "https://localhost:8080/"
        }
      },
      "outputs": [
        {
          "output_type": "stream",
          "name": "stdout",
          "text": [
            "+---------+------------------+--------------------+------------------+------------------+--------------------+------------------+------------------+--------------------+------------------+\n",
            "|continent|avg(beer_servings)|avg(spirit_servings)|avg(wine_servings)|min(beer_servings)|min(spirit_servings)|min(wine_servings)|max(beer_servings)|max(spirit_servings)|max(wine_servings)|\n",
            "+---------+------------------+--------------------+------------------+------------------+--------------------+------------------+------------------+--------------------+------------------+\n",
            "|       AF|61.471698113207545|  16.339622641509433|16.264150943396228|                 0|                   0|                 0|                98|                  98|                 9|\n",
            "|       AS| 37.04545454545455|   60.84090909090909| 9.068181818181818|                 0|                   0|                 0|                99|                  97|                 9|\n",
            "|       EU|193.77777777777777|  132.55555555555554|142.22222222222223|                 0|                   0|                 0|                89|                  88|                97|\n",
            "|       NA|145.43478260869566|   165.7391304347826| 24.52173913043478|                 1|                 104|                 1|                93|                  98|                 9|\n",
            "|       OC|           89.6875|             58.4375|            35.625|                 0|                   0|                 0|                77|                  79|                 9|\n",
            "|       SA|175.08333333333334|              114.75|62.416666666666664|               115|                 100|                 1|                93|                  76|                 8|\n",
            "+---------+------------------+--------------------+------------------+------------------+--------------------+------------------+------------------+--------------------+------------------+\n",
            "\n"
          ]
        }
      ],
      "source": [
        "funs = [F.mean, F.min, F.max]\n",
        "aggregate = [col for col in drinks.columns if \"servings\" in col]\n",
        "exprs = [f(F.col(c)) for f in funs for c in aggregate]\n",
        "drinks.groupby(\"continent\").agg(*exprs).show() "
      ]
    },
    {
      "cell_type": "code",
      "source": [],
      "metadata": {
        "id": "7ewMVs_p_aJu"
      },
      "execution_count": null,
      "outputs": []
    }
  ],
  "metadata": {
    "kernelspec": {
      "display_name": "Python 2",
      "language": "python",
      "name": "python2"
    },
    "language_info": {
      "codemirror_mode": {
        "name": "ipython",
        "version": 2
      },
      "file_extension": ".py",
      "mimetype": "text/x-python",
      "name": "python",
      "nbconvert_exporter": "python",
      "pygments_lexer": "ipython2",
      "version": "2.7.16"
    },
    "colab": {
      "provenance": []
    }
  },
  "nbformat": 4,
  "nbformat_minor": 0
}