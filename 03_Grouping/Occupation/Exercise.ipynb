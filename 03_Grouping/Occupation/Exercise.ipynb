{
  "cells": [
    {
      "cell_type": "markdown",
      "metadata": {
        "id": "v1Gdu1QmoBs-"
      },
      "source": [
        "# Occupation"
      ]
    },
    {
      "cell_type": "markdown",
      "metadata": {
        "id": "SjvH-S36oBtC"
      },
      "source": [
        "### Introduction:\n",
        "\n",
        "Special thanks to: https://github.com/justmarkham for sharing the dataset and materials.\n",
        "\n",
        "### Step 1. Import the necessary libraries"
      ]
    },
    {
      "cell_type": "code",
      "execution_count": 1,
      "metadata": {
        "id": "pZFEc41voBtC"
      },
      "outputs": [],
      "source": [
        "!apt-get install openjdk-8-jdk-headless -qq > /dev/null\n",
        "!wget -q https://dlcdn.apache.org/spark/spark-3.3.0/spark-3.3.0-bin-hadoop3.tgz\n",
        "!tar xf spark-3.3.0-bin-hadoop3.tgz\n",
        "\n",
        "!pip install -q findspark"
      ]
    },
    {
      "cell_type": "code",
      "source": [
        "import os\n",
        "os.environ[\"JAVA_HOME\"] = \"/usr/lib/jvm/java-8-openjdk-amd64\"\n",
        "os.environ[\"SPARK_HOME\"] = \"/content/spark-3.3.0-bin-hadoop3\"\n",
        "\n",
        "import findspark\n",
        "findspark.init()\n",
        "\n",
        "import pandas as pd\n",
        "\n",
        "from pyspark.sql import SparkSession\n",
        "\n",
        "spark = SparkSession.builder\\\n",
        "        .master(\"local\")\\\n",
        "        .appName(\"Colab\")\\\n",
        "        .config('spark.ui.port', '4050')\\\n",
        "        .getOrCreate()\n",
        "\n",
        "import pyspark.sql.functions as F"
      ],
      "metadata": {
        "id": "cmQDKKO9okJG"
      },
      "execution_count": 4,
      "outputs": []
    },
    {
      "cell_type": "markdown",
      "metadata": {
        "id": "DoWvsxyHoBtD"
      },
      "source": [
        "### Step 2. Import the dataset from this [address](https://raw.githubusercontent.com/justmarkham/DAT8/master/data/u.user). "
      ]
    },
    {
      "cell_type": "code",
      "source": [
        "url = \"https://raw.githubusercontent.com/justmarkham/DAT8/master/data/u.user\""
      ],
      "metadata": {
        "id": "Eokn2-AYolTb"
      },
      "execution_count": 5,
      "outputs": []
    },
    {
      "cell_type": "markdown",
      "metadata": {
        "id": "OuAXAlB_oBtD"
      },
      "source": [
        "### Step 3. Assign it to a variable called users."
      ]
    },
    {
      "cell_type": "code",
      "execution_count": 34,
      "metadata": {
        "id": "vHAx_xJioBtD"
      },
      "outputs": [],
      "source": [
        "from pyspark import SparkFiles\n",
        "spark.sparkContext.addFile(url)\n",
        "users = spark.read.csv(SparkFiles.get(\"u.user\"), header=True, sep=\"|\")"
      ]
    },
    {
      "cell_type": "code",
      "source": [
        "users.show(10)"
      ],
      "metadata": {
        "id": "swIi5xgBoqUB",
        "outputId": "40251bca-f4d0-4ee8-b6be-9d84450ff53a",
        "colab": {
          "base_uri": "https://localhost:8080/"
        }
      },
      "execution_count": 35,
      "outputs": [
        {
          "output_type": "stream",
          "name": "stdout",
          "text": [
            "+-------+---+------+-------------+--------+\n",
            "|user_id|age|gender|   occupation|zip_code|\n",
            "+-------+---+------+-------------+--------+\n",
            "|      1| 24|     M|   technician|   85711|\n",
            "|      2| 53|     F|        other|   94043|\n",
            "|      3| 23|     M|       writer|   32067|\n",
            "|      4| 24|     M|   technician|   43537|\n",
            "|      5| 33|     F|        other|   15213|\n",
            "|      6| 42|     M|    executive|   98101|\n",
            "|      7| 57|     M|administrator|   91344|\n",
            "|      8| 36|     M|administrator|   05201|\n",
            "|      9| 29|     M|      student|   01002|\n",
            "|     10| 53|     M|       lawyer|   90703|\n",
            "+-------+---+------+-------------+--------+\n",
            "only showing top 10 rows\n",
            "\n"
          ]
        }
      ]
    },
    {
      "cell_type": "markdown",
      "metadata": {
        "id": "GnYNBdMOoBtE"
      },
      "source": [
        "### Step 4. Discover what is the mean age per occupation"
      ]
    },
    {
      "cell_type": "code",
      "source": [
        "from pyspark.sql.types import StringType, IntegerType"
      ],
      "metadata": {
        "id": "WziWwd9apIV5"
      },
      "execution_count": 36,
      "outputs": []
    },
    {
      "cell_type": "code",
      "source": [
        "users = users.withColumn(\"age\", F.col(\"age\").cast(IntegerType()))"
      ],
      "metadata": {
        "id": "fbRNIAToo7oi"
      },
      "execution_count": 37,
      "outputs": []
    },
    {
      "cell_type": "code",
      "execution_count": 38,
      "metadata": {
        "id": "baW-2nAooBtE",
        "outputId": "e5157682-2299-4fea-8cbb-1ea46c0fbe28",
        "colab": {
          "base_uri": "https://localhost:8080/"
        }
      },
      "outputs": [
        {
          "output_type": "stream",
          "name": "stdout",
          "text": [
            "+-------------+------------------+\n",
            "|   occupation|          avg(age)|\n",
            "+-------------+------------------+\n",
            "|    librarian|              40.0|\n",
            "|      retired| 63.07142857142857|\n",
            "|       lawyer|             36.75|\n",
            "|         none|26.555555555555557|\n",
            "|       writer| 36.31111111111111|\n",
            "|   programmer|33.121212121212125|\n",
            "|    marketing| 37.61538461538461|\n",
            "|        other|34.523809523809526|\n",
            "|    executive|          38.71875|\n",
            "|    scientist| 35.54838709677419|\n",
            "|      student|22.081632653061224|\n",
            "|     salesman|35.666666666666664|\n",
            "|       artist|31.392857142857142|\n",
            "|   technician|33.148148148148145|\n",
            "|administrator| 38.74683544303797|\n",
            "|     engineer| 36.38805970149254|\n",
            "|   healthcare|           41.5625|\n",
            "|     educator| 42.01052631578948|\n",
            "|entertainment| 29.22222222222222|\n",
            "|    homemaker| 32.57142857142857|\n",
            "+-------------+------------------+\n",
            "only showing top 20 rows\n",
            "\n"
          ]
        }
      ],
      "source": [
        "users.groupby(\"occupation\").avg(\"age\").show()"
      ]
    },
    {
      "cell_type": "markdown",
      "metadata": {
        "id": "LCyg0EPToBtE"
      },
      "source": [
        "### Step 5. Discover the Male ratio per occupation and sort it from the most to the least"
      ]
    },
    {
      "cell_type": "code",
      "execution_count": 39,
      "metadata": {
        "id": "McXCNFxloBtF"
      },
      "outputs": [],
      "source": [
        "def gender_to_num(g):\n",
        "  if g==\"M\":\n",
        "    return 1\n",
        "  else:\n",
        "    return 0\n",
        "udf_gender_to_num = F.udf(gender_to_num, IntegerType())\n"
      ]
    },
    {
      "cell_type": "code",
      "source": [
        "users = users.withColumn(\"gender_n\", udf_gender_to_num(\"gender\"))"
      ],
      "metadata": {
        "id": "0N1GCySmt26o"
      },
      "execution_count": 40,
      "outputs": []
    },
    {
      "cell_type": "code",
      "source": [
        "users.groupby(\"occupation\").agg(F.sum(\"gender_n\")/F.count(\"gender\")).show()"
      ],
      "metadata": {
        "id": "OqFBSdnXt6Xq",
        "outputId": "08dccdd5-1721-4279-83d0-034ef24a2854",
        "colab": {
          "base_uri": "https://localhost:8080/"
        }
      },
      "execution_count": 44,
      "outputs": [
        {
          "output_type": "stream",
          "name": "stdout",
          "text": [
            "+-------------+-------------------------------+\n",
            "|   occupation|(sum(gender_n) / count(gender))|\n",
            "+-------------+-------------------------------+\n",
            "|    librarian|            0.43137254901960786|\n",
            "|      retired|             0.9285714285714286|\n",
            "|       lawyer|             0.8333333333333334|\n",
            "|         none|             0.5555555555555556|\n",
            "|       writer|             0.5777777777777777|\n",
            "|   programmer|             0.9090909090909091|\n",
            "|    marketing|             0.6153846153846154|\n",
            "|        other|             0.6571428571428571|\n",
            "|    executive|                        0.90625|\n",
            "|    scientist|             0.9032258064516129|\n",
            "|      student|             0.6938775510204082|\n",
            "|     salesman|                           0.75|\n",
            "|       artist|             0.5357142857142857|\n",
            "|   technician|             0.9629629629629629|\n",
            "|administrator|             0.5443037974683544|\n",
            "|     engineer|             0.9701492537313433|\n",
            "|   healthcare|                         0.3125|\n",
            "|     educator|             0.7263157894736842|\n",
            "|entertainment|             0.8888888888888888|\n",
            "|    homemaker|            0.14285714285714285|\n",
            "+-------------+-------------------------------+\n",
            "only showing top 20 rows\n",
            "\n"
          ]
        }
      ]
    },
    {
      "cell_type": "markdown",
      "metadata": {
        "id": "GJ4XY2BMoBtF"
      },
      "source": [
        "### Step 6. For each occupation, calculate the minimum and maximum ages"
      ]
    },
    {
      "cell_type": "code",
      "execution_count": 47,
      "metadata": {
        "id": "ZkPnefgfoBtF",
        "outputId": "199da63b-1354-42a9-b929-286356b0e131",
        "colab": {
          "base_uri": "https://localhost:8080/"
        }
      },
      "outputs": [
        {
          "output_type": "stream",
          "name": "stdout",
          "text": [
            "+-------------+--------+--------+\n",
            "|   occupation|min(age)|max(age)|\n",
            "+-------------+--------+--------+\n",
            "|    librarian|      23|      69|\n",
            "|      retired|      51|      73|\n",
            "|       lawyer|      21|      53|\n",
            "|         none|      11|      55|\n",
            "|       writer|      18|      60|\n",
            "|   programmer|      20|      63|\n",
            "|    marketing|      24|      55|\n",
            "|        other|      13|      64|\n",
            "|    executive|      22|      69|\n",
            "|    scientist|      23|      55|\n",
            "|      student|       7|      42|\n",
            "|     salesman|      18|      66|\n",
            "|       artist|      19|      48|\n",
            "|   technician|      21|      55|\n",
            "|administrator|      21|      70|\n",
            "|     engineer|      22|      70|\n",
            "|   healthcare|      22|      62|\n",
            "|     educator|      23|      63|\n",
            "|entertainment|      15|      50|\n",
            "|    homemaker|      20|      50|\n",
            "+-------------+--------+--------+\n",
            "only showing top 20 rows\n",
            "\n"
          ]
        }
      ],
      "source": [
        "users.groupby(\"occupation\").agg(F.min(\"age\"), F.max(\"age\")).show()"
      ]
    },
    {
      "cell_type": "markdown",
      "metadata": {
        "id": "jJnggWxboBtG"
      },
      "source": [
        "### Step 7. For each combination of occupation and gender, calculate the mean age"
      ]
    },
    {
      "cell_type": "code",
      "execution_count": 50,
      "metadata": {
        "id": "J_pFwyjloBtG"
      },
      "outputs": [],
      "source": [
        "group = [\"occupation\", \"gender\"]\n",
        "cols = [\"age\"]\n",
        "funs = [F.avg]\n",
        "exprs = [f(F.col(col)) for col in cols for f in funs]"
      ]
    },
    {
      "cell_type": "code",
      "source": [
        "users.groupby(*group).agg(*exprs).sort(\"occupation\", descending=False).show()"
      ],
      "metadata": {
        "id": "vkfcZnU1y2vq",
        "outputId": "74880b96-e4a1-455b-f079-7daab17aca81",
        "colab": {
          "base_uri": "https://localhost:8080/"
        }
      },
      "execution_count": 55,
      "outputs": [
        {
          "output_type": "stream",
          "name": "stdout",
          "text": [
            "+-------------+------+------------------+\n",
            "|   occupation|gender|          avg(age)|\n",
            "+-------------+------+------------------+\n",
            "|administrator|     M| 37.16279069767442|\n",
            "|administrator|     F|40.638888888888886|\n",
            "|       artist|     F|30.307692307692307|\n",
            "|       artist|     M|32.333333333333336|\n",
            "|       doctor|     M| 43.57142857142857|\n",
            "|     educator|     M| 43.10144927536232|\n",
            "|     educator|     F| 39.11538461538461|\n",
            "|     engineer|     M|              36.6|\n",
            "|     engineer|     F|              29.5|\n",
            "|entertainment|     F|              31.0|\n",
            "|entertainment|     M|              29.0|\n",
            "|    executive|     M|38.172413793103445|\n",
            "|    executive|     F|              44.0|\n",
            "|   healthcare|     M|              45.4|\n",
            "|   healthcare|     F| 39.81818181818182|\n",
            "|    homemaker|     F|34.166666666666664|\n",
            "|    homemaker|     M|              23.0|\n",
            "|       lawyer|     F|              39.5|\n",
            "|       lawyer|     M|              36.2|\n",
            "|    librarian|     M|              40.0|\n",
            "+-------------+------+------------------+\n",
            "only showing top 20 rows\n",
            "\n"
          ]
        }
      ]
    },
    {
      "cell_type": "markdown",
      "metadata": {
        "id": "1a5umCo1oBtG"
      },
      "source": [
        "### Step 8.  For each occupation present the percentage of women and men"
      ]
    },
    {
      "cell_type": "code",
      "execution_count": null,
      "metadata": {
        "id": "eDHf59JGoBtG"
      },
      "outputs": [],
      "source": []
    }
  ],
  "metadata": {
    "kernelspec": {
      "display_name": "Python 2",
      "language": "python",
      "name": "python2"
    },
    "language_info": {
      "codemirror_mode": {
        "name": "ipython",
        "version": 2
      },
      "file_extension": ".py",
      "mimetype": "text/x-python",
      "name": "python",
      "nbconvert_exporter": "python",
      "pygments_lexer": "ipython2",
      "version": "2.7.11"
    },
    "colab": {
      "provenance": []
    }
  },
  "nbformat": 4,
  "nbformat_minor": 0
}