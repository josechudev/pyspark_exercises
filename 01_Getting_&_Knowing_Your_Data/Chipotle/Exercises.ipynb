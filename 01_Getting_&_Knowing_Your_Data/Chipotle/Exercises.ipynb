{
  "cells": [
    {
      "cell_type": "markdown",
      "metadata": {
        "id": "koOLJQOrADMc"
      },
      "source": [
        "# Ex2 - Getting and Knowing your Data"
      ]
    },
    {
      "cell_type": "markdown",
      "metadata": {
        "id": "obLLVQeDADMf"
      },
      "source": [
        "This time we are going to pull data directly from the internet.\n",
        "Special thanks to: https://github.com/justmarkham for sharing the dataset and materials.\n",
        "\n",
        "### Step 1. Import the necessary libraries"
      ]
    },
    {
      "cell_type": "code",
      "execution_count": 2,
      "metadata": {
        "id": "IVk0inh2ADMf"
      },
      "outputs": [],
      "source": [
        "!apt-get install openjdk-8-jdk-headless -qq > /dev/null\n",
        "!wget -q https://dlcdn.apache.org/spark/spark-3.3.0/spark-3.3.0-bin-hadoop3.tgz"
      ]
    },
    {
      "cell_type": "code",
      "source": [
        "!tar xf spark-3.3.0-bin-hadoop3.tgz"
      ],
      "metadata": {
        "id": "DKXVY4shAo2K"
      },
      "execution_count": 3,
      "outputs": []
    },
    {
      "cell_type": "code",
      "source": [
        "!pip install -q findspark"
      ],
      "metadata": {
        "id": "to37zvB9AyQ0"
      },
      "execution_count": 4,
      "outputs": []
    },
    {
      "cell_type": "code",
      "source": [
        "import os\n",
        "os.environ[\"JAVA_HOME\"] = \"/usr/lib/jvm/java-8-openjdk-amd64\"\n",
        "os.environ[\"SPARK_HOME\"] = \"/content/spark-3.3.0-bin-hadoop3\""
      ],
      "metadata": {
        "id": "rCAyhEUIA1Xh"
      },
      "execution_count": 5,
      "outputs": []
    },
    {
      "cell_type": "code",
      "source": [
        "import findspark\n",
        "findspark.init()\n",
        "\n",
        "import pandas as pd"
      ],
      "metadata": {
        "id": "agtb3eBuA8Y5"
      },
      "execution_count": 6,
      "outputs": []
    },
    {
      "cell_type": "code",
      "source": [
        "from pyspark.sql import SparkSession\n",
        "\n",
        "spark = SparkSession.builder\\\n",
        "        .master(\"local\")\\\n",
        "        .appName(\"Colab\")\\\n",
        "        .config('spark.ui.port', '4050')\\\n",
        "        .getOrCreate()"
      ],
      "metadata": {
        "id": "aT92fPSFBBqO"
      },
      "execution_count": 7,
      "outputs": []
    },
    {
      "cell_type": "markdown",
      "metadata": {
        "id": "Y4ZD6sPDADMg"
      },
      "source": [
        "### Step 2. Import the dataset from this [address](https://raw.githubusercontent.com/justmarkham/DAT8/master/data/chipotle.tsv). "
      ]
    },
    {
      "cell_type": "code",
      "source": [
        "url = \"https://raw.githubusercontent.com/justmarkham/DAT8/master/data/chipotle.tsv\"\n"
      ],
      "metadata": {
        "id": "LFyZNScaBGne"
      },
      "execution_count": 8,
      "outputs": []
    },
    {
      "cell_type": "markdown",
      "metadata": {
        "id": "vwf9AaI_ADMh"
      },
      "source": [
        "### Step 3. Assign it to a variable called chipo."
      ]
    },
    {
      "cell_type": "code",
      "execution_count": 59,
      "metadata": {
        "id": "XSHfc02XADMh"
      },
      "outputs": [],
      "source": [
        "from pyspark import SparkFiles\n",
        "spark.sparkContext.addFile(url)\n",
        "chipotle=spark.read.csv(SparkFiles.get(\"chipotle.tsv\"), header=True, sep=\"\\t\")"
      ]
    },
    {
      "cell_type": "markdown",
      "metadata": {
        "id": "C3q6bVf_ADMi"
      },
      "source": [
        "### Step 4. See the first 10 entries"
      ]
    },
    {
      "cell_type": "code",
      "execution_count": 10,
      "metadata": {
        "scrolled": false,
        "colab": {
          "base_uri": "https://localhost:8080/"
        },
        "id": "6urPWYDPADMi",
        "outputId": "96da6f94-d81e-45bc-d7c3-641deba58105"
      },
      "outputs": [
        {
          "output_type": "stream",
          "name": "stdout",
          "text": [
            "+--------+--------+--------------------+--------------------+----------+\n",
            "|order_id|quantity|           item_name|  choice_description|item_price|\n",
            "+--------+--------+--------------------+--------------------+----------+\n",
            "|       1|       1|Chips and Fresh T...|                NULL|    $2.39 |\n",
            "|       1|       1|                Izze|        [Clementine]|    $3.39 |\n",
            "|       1|       1|    Nantucket Nectar|             [Apple]|    $3.39 |\n",
            "|       1|       1|Chips and Tomatil...|                NULL|    $2.39 |\n",
            "|       2|       2|        Chicken Bowl|[Tomatillo-Red Ch...|   $16.98 |\n",
            "|       3|       1|        Chicken Bowl|[Fresh Tomato Sal...|   $10.98 |\n",
            "|       3|       1|       Side of Chips|                NULL|    $1.69 |\n",
            "|       4|       1|       Steak Burrito|[Tomatillo Red Ch...|   $11.75 |\n",
            "|       4|       1|    Steak Soft Tacos|[Tomatillo Green ...|    $9.25 |\n",
            "|       5|       1|       Steak Burrito|[Fresh Tomato Sal...|    $9.25 |\n",
            "+--------+--------+--------------------+--------------------+----------+\n",
            "only showing top 10 rows\n",
            "\n"
          ]
        }
      ],
      "source": [
        "chipotle.show(10)"
      ]
    },
    {
      "cell_type": "markdown",
      "metadata": {
        "id": "cSH_Bnx0ADMi"
      },
      "source": [
        "### Step 5. What is the number of observations in the dataset?"
      ]
    },
    {
      "cell_type": "code",
      "execution_count": 11,
      "metadata": {
        "colab": {
          "base_uri": "https://localhost:8080/"
        },
        "id": "n5Zrsyz7ADMj",
        "outputId": "39b15c60-77af-42c0-ac38-4bc9c25c612d"
      },
      "outputs": [
        {
          "output_type": "execute_result",
          "data": {
            "text/plain": [
              "4622"
            ]
          },
          "metadata": {},
          "execution_count": 11
        }
      ],
      "source": [
        "# Solution 1\n",
        "chipotle.count()\n"
      ]
    },
    {
      "cell_type": "code",
      "execution_count": 12,
      "metadata": {
        "colab": {
          "base_uri": "https://localhost:8080/"
        },
        "id": "sHW5xr4qADMj",
        "outputId": "eb6de09b-0887-4cc4-9de8-c7311c784185"
      },
      "outputs": [
        {
          "output_type": "stream",
          "name": "stdout",
          "text": [
            "+-------+-----------------+------------------+-----------------+--------------------+----------+\n",
            "|summary|         order_id|          quantity|        item_name|  choice_description|item_price|\n",
            "+-------+-----------------+------------------+-----------------+--------------------+----------+\n",
            "|  count|             4622|              4622|             4622|                4622|      4622|\n",
            "|   mean|927.2548680225011|1.0757247944612722|             null|                null|      null|\n",
            "| stddev|528.8907955866096|0.4101863342575333|             null|                null|      null|\n",
            "|    min|                1|                 1|6 Pack Soft Drink|                NULL|    $1.09 |\n",
            "|    25%|            477.0|               1.0|             null|                null|      null|\n",
            "|    50%|            926.0|               1.0|             null|                null|      null|\n",
            "|    75%|           1393.0|               1.0|             null|                null|      null|\n",
            "|    max|              999|                 8|Veggie Soft Tacos|[[Tomatillo-Red C...|    $9.39 |\n",
            "+-------+-----------------+------------------+-----------------+--------------------+----------+\n",
            "\n"
          ]
        }
      ],
      "source": [
        "# Solution 2\n",
        "\n",
        "chipotle.summary().show()"
      ]
    },
    {
      "cell_type": "markdown",
      "metadata": {
        "id": "l4eQY2d0ADMk"
      },
      "source": [
        "### Step 6. What is the number of columns in the dataset?"
      ]
    },
    {
      "cell_type": "code",
      "execution_count": 13,
      "metadata": {
        "colab": {
          "base_uri": "https://localhost:8080/"
        },
        "id": "gXpKGbuYADMk",
        "outputId": "482717a4-17e9-4f21-a8c8-e8cd238c46af"
      },
      "outputs": [
        {
          "output_type": "execute_result",
          "data": {
            "text/plain": [
              "5"
            ]
          },
          "metadata": {},
          "execution_count": 13
        }
      ],
      "source": [
        "len(chipotle.columns)"
      ]
    },
    {
      "cell_type": "markdown",
      "metadata": {
        "id": "__PV89IUADMl"
      },
      "source": [
        "### Step 7. Print the name of all the columns."
      ]
    },
    {
      "cell_type": "code",
      "execution_count": 14,
      "metadata": {
        "colab": {
          "base_uri": "https://localhost:8080/"
        },
        "id": "xTgAn07vADMl",
        "outputId": "d91e179a-7f33-428d-af09-151db3e799ae"
      },
      "outputs": [
        {
          "output_type": "execute_result",
          "data": {
            "text/plain": [
              "['order_id', 'quantity', 'item_name', 'choice_description', 'item_price']"
            ]
          },
          "metadata": {},
          "execution_count": 14
        }
      ],
      "source": [
        "chipotle.columns"
      ]
    },
    {
      "cell_type": "markdown",
      "metadata": {
        "id": "R96RJI1hADMl"
      },
      "source": [
        "### Step 8. How is the dataset indexed?"
      ]
    },
    {
      "cell_type": "code",
      "execution_count": 14,
      "metadata": {
        "id": "ue_SYI7gADMm"
      },
      "outputs": [],
      "source": []
    },
    {
      "cell_type": "markdown",
      "metadata": {
        "id": "M8kMLpTOADMm"
      },
      "source": [
        "### Step 9. Which was the most-ordered item? "
      ]
    },
    {
      "cell_type": "code",
      "source": [
        "from pyspark.sql.functions import col\n",
        "from pyspark.sql.types import StringType,BooleanType,DateType, FloatType"
      ],
      "metadata": {
        "id": "z87FGAaYsaia"
      },
      "execution_count": 15,
      "outputs": []
    },
    {
      "cell_type": "code",
      "execution_count": 16,
      "metadata": {
        "id": "p1XWr79CADMm"
      },
      "outputs": [],
      "source": [
        "chipotle = chipotle.withColumn(\"quantity\", col(\"quantity\").cast(FloatType()))\n"
      ]
    },
    {
      "cell_type": "code",
      "source": [
        "chipotle.printSchema()"
      ],
      "metadata": {
        "id": "DgQJMgIAt_Py",
        "outputId": "d66c7026-aeb9-4531-97cb-e5370a472b3c",
        "colab": {
          "base_uri": "https://localhost:8080/"
        }
      },
      "execution_count": 17,
      "outputs": [
        {
          "output_type": "stream",
          "name": "stdout",
          "text": [
            "root\n",
            " |-- order_id: string (nullable = true)\n",
            " |-- quantity: float (nullable = true)\n",
            " |-- item_name: string (nullable = true)\n",
            " |-- choice_description: string (nullable = true)\n",
            " |-- item_price: string (nullable = true)\n",
            "\n"
          ]
        }
      ]
    },
    {
      "cell_type": "code",
      "source": [
        "chipotle.groupby(\"item_name\").sum(\"quantity\").sort(\"sum(quantity)\", ascending=False).show()"
      ],
      "metadata": {
        "id": "-t_JIeNVu05v",
        "outputId": "45c8fe1c-8b76-4776-b45d-20b834677a08",
        "colab": {
          "base_uri": "https://localhost:8080/"
        }
      },
      "execution_count": 22,
      "outputs": [
        {
          "output_type": "stream",
          "name": "stdout",
          "text": [
            "+--------------------+-------------+\n",
            "|           item_name|sum(quantity)|\n",
            "+--------------------+-------------+\n",
            "|        Chicken Bowl|        761.0|\n",
            "|     Chicken Burrito|        591.0|\n",
            "| Chips and Guacamole|        506.0|\n",
            "|       Steak Burrito|        386.0|\n",
            "|   Canned Soft Drink|        351.0|\n",
            "|               Chips|        230.0|\n",
            "|          Steak Bowl|        221.0|\n",
            "|       Bottled Water|        211.0|\n",
            "|Chips and Fresh T...|        130.0|\n",
            "|         Canned Soda|        126.0|\n",
            "|  Chicken Salad Bowl|        123.0|\n",
            "|  Chicken Soft Tacos|        120.0|\n",
            "|       Side of Chips|        110.0|\n",
            "|      Veggie Burrito|         97.0|\n",
            "|    Barbacoa Burrito|         91.0|\n",
            "|         Veggie Bowl|         87.0|\n",
            "|       Carnitas Bowl|         71.0|\n",
            "|       Barbacoa Bowl|         66.0|\n",
            "|    Carnitas Burrito|         60.0|\n",
            "|    Steak Soft Tacos|         56.0|\n",
            "+--------------------+-------------+\n",
            "only showing top 20 rows\n",
            "\n"
          ]
        }
      ]
    },
    {
      "cell_type": "markdown",
      "metadata": {
        "id": "O03RB8kHADMm"
      },
      "source": [
        "### Step 10. For the most-ordered item, how many items were ordered?"
      ]
    },
    {
      "cell_type": "code",
      "execution_count": 25,
      "metadata": {
        "colab": {
          "base_uri": "https://localhost:8080/"
        },
        "id": "YdL8ugIsADMm",
        "outputId": "c285d762-59d8-4d04-aba2-4d5d04ee0375"
      },
      "outputs": [
        {
          "output_type": "stream",
          "name": "stdout",
          "text": [
            "+--------------------+-------------+\n",
            "|  choice_description|sum(quantity)|\n",
            "+--------------------+-------------+\n",
            "|                NULL|       1382.0|\n",
            "|         [Diet Coke]|        159.0|\n",
            "|              [Coke]|        143.0|\n",
            "|            [Sprite]|         89.0|\n",
            "|[Fresh Tomato Sal...|         49.0|\n",
            "|[Fresh Tomato Sal...|         42.0|\n",
            "|[Fresh Tomato Sal...|         40.0|\n",
            "|          [Lemonade]|         36.0|\n",
            "|[Fresh Tomato Sal...|         36.0|\n",
            "|         [Coca Cola]|         32.0|\n",
            "|[Fresh Tomato Sal...|         30.0|\n",
            "|[Fresh Tomato Sal...|         30.0|\n",
            "|[Fresh Tomato Sal...|         26.0|\n",
            "|[Fresh Tomato Sal...|         25.0|\n",
            "|[Fresh Tomato Sal...|         24.0|\n",
            "|[Fresh Tomato Sal...|         23.0|\n",
            "|[Fresh Tomato Sal...|         22.0|\n",
            "|[Fresh Tomato Sal...|         22.0|\n",
            "|[Fresh Tomato Sal...|         21.0|\n",
            "|[Fresh Tomato Sal...|         21.0|\n",
            "+--------------------+-------------+\n",
            "only showing top 20 rows\n",
            "\n"
          ]
        }
      ],
      "source": [
        "chipotle.groupby(\"choice_description\").sum(\"quantity\").sort(\"sum(quantity)\", ascending=False).show()"
      ]
    },
    {
      "cell_type": "markdown",
      "metadata": {
        "id": "frIHa0gmADMn"
      },
      "source": [
        "### Step 11. What was the most ordered item in the choice_description column?"
      ]
    },
    {
      "cell_type": "code",
      "execution_count": 28,
      "metadata": {
        "id": "9XltgLmqADMn"
      },
      "outputs": [],
      "source": []
    },
    {
      "cell_type": "markdown",
      "metadata": {
        "id": "NyHzD_ITADMn"
      },
      "source": [
        "### Step 12. How many items were orderd in total?"
      ]
    },
    {
      "cell_type": "code",
      "execution_count": 32,
      "metadata": {
        "colab": {
          "base_uri": "https://localhost:8080/"
        },
        "id": "VYAROchXADMn",
        "outputId": "04253e7c-1605-4fee-853c-d4cc3fb68f8c"
      },
      "outputs": [
        {
          "output_type": "stream",
          "name": "stdout",
          "text": [
            "+-------------+\n",
            "|sum(quantity)|\n",
            "+-------------+\n",
            "|       4972.0|\n",
            "+-------------+\n",
            "\n"
          ]
        }
      ],
      "source": [
        "total_items = chipotle.agg({\"quantity\":\"sum\"}).show()"
      ]
    },
    {
      "cell_type": "markdown",
      "metadata": {
        "id": "_txQW6vLADMo"
      },
      "source": [
        "### Step 13. Turn the item price into a float"
      ]
    },
    {
      "cell_type": "markdown",
      "metadata": {
        "id": "Hm1J5Z78ADMo"
      },
      "source": [
        "#### Step 13.a. Check the item price type"
      ]
    },
    {
      "cell_type": "code",
      "execution_count": 34,
      "metadata": {
        "colab": {
          "base_uri": "https://localhost:8080/"
        },
        "id": "bIZ-57AjADMo",
        "outputId": "97fc0795-ec14-48c5-e8fb-efa291719f15"
      },
      "outputs": [
        {
          "output_type": "execute_result",
          "data": {
            "text/plain": [
              "DataFrame[summary: string, order_id: string, quantity: string, item_name: string, choice_description: string, item_price: string]"
            ]
          },
          "metadata": {},
          "execution_count": 34
        }
      ],
      "source": [
        "chipotle.describe()"
      ]
    },
    {
      "cell_type": "markdown",
      "metadata": {
        "id": "stQYqtHRADMo"
      },
      "source": [
        "#### Step 13.b. Create a lambda function and change the type of item price"
      ]
    },
    {
      "cell_type": "code",
      "execution_count": 54,
      "metadata": {
        "collapsed": true,
        "id": "Jj0GuyCpADMp"
      },
      "outputs": [],
      "source": [
        "import pyspark.sql.functions as F\n",
        "\n",
        "def subs_index(s):\n",
        "  return float(s[1:-1])\n",
        "\n",
        "udf_substring = F.udf(lambda s: subs_index(s), FloatType())"
      ]
    },
    {
      "cell_type": "code",
      "source": [
        "chipotle = chipotle.withColumn(\"item_price\", udf_substring(col(\"item_price\")))"
      ],
      "metadata": {
        "id": "reblGCv2bb-7"
      },
      "execution_count": 60,
      "outputs": []
    },
    {
      "cell_type": "code",
      "source": [
        "chipotle.show()"
      ],
      "metadata": {
        "id": "v4iEkE_9cJsY",
        "outputId": "d09f548e-0614-48df-954b-81c7eab3b07c",
        "colab": {
          "base_uri": "https://localhost:8080/"
        }
      },
      "execution_count": 63,
      "outputs": [
        {
          "output_type": "stream",
          "name": "stdout",
          "text": [
            "+--------+--------+--------------------+--------------------+----------+\n",
            "|order_id|quantity|           item_name|  choice_description|item_price|\n",
            "+--------+--------+--------------------+--------------------+----------+\n",
            "|       1|       1|Chips and Fresh T...|                NULL|      2.39|\n",
            "|       1|       1|                Izze|        [Clementine]|      3.39|\n",
            "|       1|       1|    Nantucket Nectar|             [Apple]|      3.39|\n",
            "|       1|       1|Chips and Tomatil...|                NULL|      2.39|\n",
            "|       2|       2|        Chicken Bowl|[Tomatillo-Red Ch...|     16.98|\n",
            "|       3|       1|        Chicken Bowl|[Fresh Tomato Sal...|     10.98|\n",
            "|       3|       1|       Side of Chips|                NULL|      1.69|\n",
            "|       4|       1|       Steak Burrito|[Tomatillo Red Ch...|     11.75|\n",
            "|       4|       1|    Steak Soft Tacos|[Tomatillo Green ...|      9.25|\n",
            "|       5|       1|       Steak Burrito|[Fresh Tomato Sal...|      9.25|\n",
            "|       5|       1| Chips and Guacamole|                NULL|      4.45|\n",
            "|       6|       1|Chicken Crispy Tacos|[Roasted Chili Co...|      8.75|\n",
            "|       6|       1|  Chicken Soft Tacos|[Roasted Chili Co...|      8.75|\n",
            "|       7|       1|        Chicken Bowl|[Fresh Tomato Sal...|     11.25|\n",
            "|       7|       1| Chips and Guacamole|                NULL|      4.45|\n",
            "|       8|       1|Chips and Tomatil...|                NULL|      2.39|\n",
            "|       8|       1|     Chicken Burrito|[Tomatillo-Green ...|      8.49|\n",
            "|       9|       1|     Chicken Burrito|[Fresh Tomato Sal...|      8.49|\n",
            "|       9|       2|         Canned Soda|            [Sprite]|      2.18|\n",
            "|      10|       1|        Chicken Bowl|[Tomatillo Red Ch...|      8.75|\n",
            "+--------+--------+--------------------+--------------------+----------+\n",
            "only showing top 20 rows\n",
            "\n"
          ]
        }
      ]
    },
    {
      "cell_type": "markdown",
      "metadata": {
        "id": "kLryVvOiADMp"
      },
      "source": [
        "#### Step 13.c. Check the item price type"
      ]
    },
    {
      "cell_type": "code",
      "execution_count": 64,
      "metadata": {
        "colab": {
          "base_uri": "https://localhost:8080/"
        },
        "id": "x_MLc9LEADMp",
        "outputId": "9bfdde1f-8996-49da-c1c8-50cd7aeeacd6"
      },
      "outputs": [
        {
          "output_type": "execute_result",
          "data": {
            "text/plain": [
              "DataFrame[summary: string, order_id: string, quantity: string, item_name: string, choice_description: string, item_price: string]"
            ]
          },
          "metadata": {},
          "execution_count": 64
        }
      ],
      "source": [
        "chipotle.describe()"
      ]
    },
    {
      "cell_type": "markdown",
      "metadata": {
        "id": "Otp5wNF5ADMp"
      },
      "source": [
        "### Step 14. How much was the revenue for the period in the dataset?"
      ]
    },
    {
      "cell_type": "code",
      "execution_count": 66,
      "metadata": {
        "colab": {
          "base_uri": "https://localhost:8080/"
        },
        "id": "QsIUuSIDADMq",
        "outputId": "873f0f81-ef58-41b7-e7da-05ebf2eaf380"
      },
      "outputs": [
        {
          "output_type": "stream",
          "name": "stdout",
          "text": [
            "+-----------------+\n",
            "|     sum(revenue)|\n",
            "+-----------------+\n",
            "|39237.01973223686|\n",
            "+-----------------+\n",
            "\n"
          ]
        }
      ],
      "source": [
        "chipotle.withColumn(\"revenue\", col(\"item_price\") * col(\"quantity\")).agg({\"revenue\": \"sum\"}).show()"
      ]
    },
    {
      "cell_type": "code",
      "source": [
        "chipotle.withColumn(\"revenue\", col(\"item_price\") * col(\"quantity\")).agg({\"revenue\": \"sum\"}).collect()[0][0]"
      ],
      "metadata": {
        "id": "hF-6gIaZYk5N",
        "outputId": "d0718437-190b-4f6c-9f07-231222d25587",
        "colab": {
          "base_uri": "https://localhost:8080/"
        }
      },
      "execution_count": 73,
      "outputs": [
        {
          "output_type": "execute_result",
          "data": {
            "text/plain": [
              "39237.01973223686"
            ]
          },
          "metadata": {},
          "execution_count": 73
        }
      ]
    },
    {
      "cell_type": "markdown",
      "metadata": {
        "id": "VjXgOUu3ADMq"
      },
      "source": [
        "### Step 15. How many orders were made in the period?"
      ]
    },
    {
      "cell_type": "code",
      "execution_count": 70,
      "metadata": {
        "colab": {
          "base_uri": "https://localhost:8080/"
        },
        "id": "awUfHX9pADMr",
        "outputId": "d6776a77-b229-4152-9b20-c66fb83f6426"
      },
      "outputs": [
        {
          "output_type": "execute_result",
          "data": {
            "text/plain": [
              "1834"
            ]
          },
          "metadata": {},
          "execution_count": 70
        }
      ],
      "source": [
        "chipotle.select(\"order_id\").distinct().count()"
      ]
    },
    {
      "cell_type": "markdown",
      "metadata": {
        "id": "rTCuulYRADMr"
      },
      "source": [
        ".### Step 16. What is the average revenue amount per order?"
      ]
    },
    {
      "cell_type": "code",
      "execution_count": 74,
      "metadata": {
        "colab": {
          "base_uri": "https://localhost:8080/"
        },
        "id": "FtnalPAUADMr",
        "outputId": "c825d448-2331-4dda-e755-d86e32020cef"
      },
      "outputs": [
        {
          "output_type": "execute_result",
          "data": {
            "text/plain": [
              "DataFrame[order_id: string, quantity: string, item_name: string, choice_description: string, item_price: float, revenue: double]"
            ]
          },
          "metadata": {},
          "execution_count": 74
        }
      ],
      "source": [
        "# Solution 1\n",
        "chipotle = chipotle.withColumn(\"revenue\", col(\"item_price\") * col(\"quantity\"))\n",
        "chipotle"
      ]
    },
    {
      "cell_type": "code",
      "execution_count": 91,
      "metadata": {
        "colab": {
          "base_uri": "https://localhost:8080/"
        },
        "id": "TTr907SWADMs",
        "outputId": "40d73687-c823-4e7a-eac2-27c28e275359"
      },
      "outputs": [
        {
          "output_type": "execute_result",
          "data": {
            "text/plain": [
              "21.39423104265914"
            ]
          },
          "metadata": {},
          "execution_count": 91
        }
      ],
      "source": [
        "# Solution 2\n",
        "\n",
        "chipotle.groupby(\"order_id\").agg(F.sum(\"revenue\").alias(\"sum_revenue\")).agg({\"sum_revenue\": \"avg\"}).collect()[0][0]"
      ]
    },
    {
      "cell_type": "markdown",
      "metadata": {
        "id": "QhHuEETlADMs"
      },
      "source": [
        "### Step 17. How many different items are sold?"
      ]
    },
    {
      "cell_type": "code",
      "execution_count": 92,
      "metadata": {
        "colab": {
          "base_uri": "https://localhost:8080/"
        },
        "id": "T-IRJ02uADMs",
        "outputId": "a9c67393-fd41-4ba1-e35b-fa30e63dd76b"
      },
      "outputs": [
        {
          "output_type": "execute_result",
          "data": {
            "text/plain": [
              "50"
            ]
          },
          "metadata": {},
          "execution_count": 92
        }
      ],
      "source": [
        "chipotle.select(\"item_name\").distinct().count()"
      ]
    },
    {
      "cell_type": "code",
      "source": [],
      "metadata": {
        "id": "lmrg8IwKfp6s"
      },
      "execution_count": null,
      "outputs": []
    }
  ],
  "metadata": {
    "anaconda-cloud": {},
    "kernelspec": {
      "display_name": "Python [default]",
      "language": "python",
      "name": "python2"
    },
    "language_info": {
      "codemirror_mode": {
        "name": "ipython",
        "version": 2
      },
      "file_extension": ".py",
      "mimetype": "text/x-python",
      "name": "python",
      "nbconvert_exporter": "python",
      "pygments_lexer": "ipython2",
      "version": "2.7.12"
    },
    "colab": {
      "provenance": []
    }
  },
  "nbformat": 4,
  "nbformat_minor": 0
}